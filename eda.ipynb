{
 "cells": [
  {
   "cell_type": "code",
   "execution_count": null,
   "metadata": {},
   "outputs": [],
   "source": [
    "from collections import Counter\n",
    "import pandas as pd"
   ]
  },
  {
   "cell_type": "markdown",
   "metadata": {},
   "source": [
    "# Tiny Shakespear dataset"
   ]
  },
  {
   "cell_type": "code",
   "execution_count": null,
   "metadata": {},
   "outputs": [],
   "source": [
    "with open('data/input.txt', 'r', encoding='utf-8') as f:\n",
    "    text = f.read()\n",
    "    excerpt = text[:300].replace('\\n', '\\n  > ')\n",
    "    print(f'Input text loaded ({len(text)} chars), excerpt:\\n{excerpt} (.. end of excerpt)')"
   ]
  },
  {
   "cell_type": "code",
   "execution_count": null,
   "metadata": {},
   "outputs": [],
   "source": [
    "vocab = sorted(list(set(text)))\n",
    "vocab_size = len(vocab)\n",
    "vocab_as_string = ''.join(vocab)\n",
    "print(f'Vocabulary ({vocab_size}): {repr(vocab_as_string)}')\n",
    "\n",
    "# Check distribution\n",
    "print('Distribution:')\n",
    "counter = Counter(text)\n",
    "for c, freq in counter.most_common():\n",
    "    freq_percent = freq/len(text)\n",
    "    print(f'{repr(c):<4}: {freq:<6} ({freq_percent:.6f}%)')"
   ]
  }
 ],
 "metadata": {
  "kernelspec": {
   "display_name": "gpt",
   "language": "python",
   "name": "python3"
  },
  "language_info": {
   "codemirror_mode": {
    "name": "ipython",
    "version": 3
   },
   "file_extension": ".py",
   "mimetype": "text/x-python",
   "name": "python",
   "nbconvert_exporter": "python",
   "pygments_lexer": "ipython3",
   "version": "3.12.3"
  }
 },
 "nbformat": 4,
 "nbformat_minor": 2
}
